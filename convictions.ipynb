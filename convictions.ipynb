{
 "metadata": {
  "name": "",
  "signature": "sha256:67da1d5bf60de62387d86f1a87a639166f83582be0ca08aa64165459c828f875"
 },
 "nbformat": 3,
 "nbformat_minor": 0,
 "worksheets": [
  {
   "cells": [
    {
     "cell_type": "code",
     "collapsed": false,
     "input": [
      "from convictions_data.models import Disposition"
     ],
     "language": "python",
     "metadata": {},
     "outputs": [],
     "prompt_number": 1
    },
    {
     "cell_type": "markdown",
     "metadata": {},
     "source": [
      "## What are we counting here?\n",
      "\n",
      "tl;dr Records != Convictions != People\n",
      "\n",
      "Each record represents a disposition, which is refers to a court's final determination of a case or issue.  Our data set appears to only have dispositions that are related to charges where there was a conviction. So, we don't have dispositions related to charges where someone was found not guilty. \n",
      "\n",
      "There can be multiple records for a single case."
     ]
    },
    {
     "cell_type": "code",
     "collapsed": false,
     "input": [
      "num_records = Disposition.objects.count()\n",
      "num_cases = Disposition.objects.values('case_number').distinct().count()\n",
      "\n",
      "print(\"There are {} records in our dataset.\".format(num_records))\n",
      "print(\"These are from {} cases.\".format(num_cases))"
     ],
     "language": "python",
     "metadata": {},
     "outputs": [
      {
       "output_type": "stream",
       "stream": "stdout",
       "text": [
        "There are 321590 records in our dataset.\n",
        "These are from 161150 cases.\n"
       ]
      }
     ],
     "prompt_number": 2
    },
    {
     "cell_type": "heading",
     "level": 2,
     "metadata": {},
     "source": [
      "Excluded rows"
     ]
    },
    {
     "cell_type": "markdown",
     "metadata": {},
     "source": [
      "Some records did not have statutes that could easily be parsed into IUCR codes"
     ]
    },
    {
     "cell_type": "code",
     "collapsed": false,
     "input": [
      "print(Disposition.objects.exclude(final_statute=\"\").filter(iucr_code=\"\").count())"
     ],
     "language": "python",
     "metadata": {},
     "outputs": [
      {
       "output_type": "stream",
       "stream": "stdout",
       "text": [
        "114185\n"
       ]
      }
     ],
     "prompt_number": 4
    },
    {
     "cell_type": "markdown",
     "metadata": {},
     "source": [
      "Other records did not have an address that could be geocoded"
     ]
    },
    {
     "cell_type": "code",
     "collapsed": false,
     "input": [
      "print(Disposition.objects.all().count()-Disposition.objects.has_geocodable_address().count())"
     ],
     "language": "python",
     "metadata": {},
     "outputs": [
      {
       "output_type": "stream",
       "stream": "stdout",
       "text": [
        "5757\n"
       ]
      }
     ],
     "prompt_number": 5
    },
    {
     "cell_type": "markdown",
     "metadata": {},
     "source": [
      "We were able to geocode all the Cook county or Chicago records that had good addresses."
     ]
    },
    {
     "cell_type": "code",
     "collapsed": false,
     "input": [
      "cook_q = Q(county=\"Cook\", state=\"IL\")\n",
      "chi_zip_q = Q(zipcode__startswith=\"606\")\n",
      "print(Disposition.objects.filter(cook_q | chi_zip_q).has_geocodable_address().ungeocoded().count())"
     ],
     "language": "python",
     "metadata": {},
     "outputs": [
      {
       "output_type": "stream",
       "stream": "stdout",
       "text": [
        "0\n"
       ]
      }
     ],
     "prompt_number": 6
    },
    {
     "cell_type": "markdown",
     "metadata": {},
     "source": [
      "## Interesting cases"
     ]
    },
    {
     "cell_type": "code",
     "collapsed": false,
     "input": [
      "from django.db.models import Count\n",
      "\n",
      "# Print the case number with the must records, and the number of records\n",
      "most_records = Disposition.objects.values('case_number').annotate(num_records=Count('case_number')).order_by('-num_records')[0]\n",
      "print(most_records['case_number'])\n",
      "print(most_records['num_records'])\n",
      "\n",
      "# Case with the most records for a possession charge\n",
      "most_records = Disposition.objects.filter(iucr_code=\"2020\").values('case_number').annotate(num_records=Count('case_number')).order_by('-num_records')[0]\n",
      "print(most_records['case_number'])\n",
      "print(most_records['num_records'])\n",
      "\n",
      "\n",
      "dispositions = Disposition.objects.filter(case_number=most_records['case_number'])\n",
      "# In this case, all these records are likely for a single person\n",
      "print(dispositions.values('dob').distinct().count())\n",
      "\n",
      "# I think distinct tuples of case_number, dob, and statute should represent an individual conviction\n",
      "# I'm not quite sure how to take into account \n",
      "print(dispositions.values('case_number', 'dob', 'final_statute').distinct().count())"
     ],
     "language": "python",
     "metadata": {},
     "outputs": [
      {
       "output_type": "stream",
       "stream": "stdout",
       "text": [
        "2002CR3214402\n",
        "36\n",
        "2005CR0590001"
       ]
      },
      {
       "output_type": "stream",
       "stream": "stdout",
       "text": [
        "\n",
        "14\n",
        "1"
       ]
      },
      {
       "output_type": "stream",
       "stream": "stdout",
       "text": [
        "\n",
        "4"
       ]
      },
      {
       "output_type": "stream",
       "stream": "stdout",
       "text": [
        "\n"
       ]
      }
     ],
     "prompt_number": 7
    },
    {
     "cell_type": "markdown",
     "metadata": {},
     "source": [
      "## Number of people\n",
      "\n",
      "The best bet we can get to identify individual people is by the ``fgrprntno`` field."
     ]
    },
    {
     "cell_type": "code",
     "collapsed": false,
     "input": [
      "num_with_fgrprntno = Disposition.objects.exclude(fgrprntno=\"0\").count()\n",
      "print(\"There are {} records with identifiable fgrprntno fields\".format(num_with_fgrprntno))\n",
      "print()\n",
      "num_distinct_fgrprntno = Disposition.objects.exclude(fgrprntno=\"0\").values('fgrprntno').distinct().count()\n",
      "print(\"There are {} distinct fgrprntno values (people?)\".format(num_distinct_fgrprntno))"
     ],
     "language": "python",
     "metadata": {},
     "outputs": [
      {
       "output_type": "stream",
       "stream": "stdout",
       "text": [
        "There are 289475 records with identifiable fgrprntno fields\n",
        "\n",
        "There are 102459 distinct fgrprntno values (people?)"
       ]
      },
      {
       "output_type": "stream",
       "stream": "stdout",
       "text": [
        "\n"
       ]
      }
     ],
     "prompt_number": 8
    },
    {
     "cell_type": "markdown",
     "metadata": {},
     "source": [
      "## Identifying unique people\n",
      "\n",
      "Within a case, it seems like a date of birth (DOB) is a pretty good way to uniquely identify people.  This would break if, for example there are twins involved in the same case.\n",
      "\n",
      "Some DOB values couldn't be parsed into meaningful dates.  These show up as NULL values in the database. I just want to make sure that there aren't any None value DOB fields with different ``fgrprntno`` or ``st_address`` values."
     ]
    },
    {
     "cell_type": "code",
     "collapsed": false,
     "input": [
      "no_dob = Disposition.objects.filter(dob=None)\n",
      "distinct_cases = no_dob.values('case_number').distinct().count()\n",
      "print(\"There are {} records with a null dob field.\".format(no_dob.count()))\n",
      "print(\"These records represent {} distinct cases\".format(distinct_cases))\n",
      "print(\"There should be the same number of case number/fgrprntno pairs and case number/st_address pairs:\")\n",
      "unique_address_case_number = no_dob.values('case_number', 'st_address').distinct().count()\n",
      "unique_fgrprntno_case_number = no_dob.values('case_number', 'fgrprntno').distinct().count()\n",
      "print(\"* case_number/fgrprntno: {}\".format(unique_fgrprntno_case_number))\n",
      "print(\"* case_number/st_address: {}\".format(unique_address_case_number))\n",
      "assert unique_fgrprntno_case_number == distinct_cases and unique_address_case_number == distinct_cases\n",
      "print(\"We're good.  We can use dob to uniquely identify people within a case\")"
     ],
     "language": "python",
     "metadata": {},
     "outputs": [
      {
       "output_type": "stream",
       "stream": "stdout",
       "text": [
        "There are 557 records with a null dob field.\n",
        "These records represent 286 distinct cases\n",
        "There should be the same number of case number/fgrprntno pairs and case number/st_address pairs:\n",
        "* case_number/fgrprntno: 286"
       ]
      },
      {
       "output_type": "stream",
       "stream": "stdout",
       "text": [
        "\n",
        "* case_number/st_address: 286\n",
        "We're good.  We can use dob to uniquely identify people within a case\n"
       ]
      }
     ],
     "prompt_number": 10
    },
    {
     "cell_type": "markdown",
     "metadata": {},
     "source": [
      "## How does pool of those convicted vary by crime type & demographic characteristic?\n",
      "* Age \n",
      "* ~~Race~~\n",
      "* Gender"
     ]
    },
    {
     "cell_type": "code",
     "collapsed": false,
     "input": [
      "dispositions = Disposition.objects.all().extra(select={\n",
      "  'arrest_age': 'arrest_date - dob',\n",
      "}).exclude(dob=None).exclude(arrest_date=None).values('case_number', 'dob', 'statute', 'arrest_age')\n",
      "# Filter out weird values based on bad dates\n",
      "no_youngins = [c for c in dispositions.order_by('arrest_age') if c['arrest_age'] > 5]\n",
      "youngest = no_youngins[0]\n",
      "print(\"The youngest age is {} (case number {})\".format(youngest['arrest_age'], youngest['case_number']))\n",
      "oldest = dispositions.order_by('-arrest_age')[0]\n",
      "\n",
      "print(\"The oldest age is {} (case number {})\".format(oldest['arrest_age'], oldest['case_number']))"
     ],
     "language": "python",
     "metadata": {},
     "outputs": [
      {
       "output_type": "stream",
       "stream": "stdout",
       "text": [
        "The youngest age is 7 (case number 2006CR0069101)\n",
        "The oldest age is 91 (case number 2008CR0530901)"
       ]
      },
      {
       "output_type": "stream",
       "stream": "stdout",
       "text": [
        "\n"
       ]
      }
     ],
     "prompt_number": 11
    },
    {
     "cell_type": "code",
     "collapsed": false,
     "input": [
      "num_records = Disposition.objects.all().count()\n",
      "valid_sex = Disposition.objects.filter(sex__in=['male', 'female']).count()\n",
      "print(\"We have to exclude {} records because they have an invalid sex value is specified.\".format(num_records - valid_sex))\n",
      "print()\n",
      "\n",
      "dispositions = Disposition.objects.filter(sex__in=['male', 'female']).values('case_number', 'dob', 'statute').distinct()\n",
      "num_dispositions = convictions.count()\n",
      "num_male = dispositions.filter(sex='male').count()\n",
      "num_female = dispositions.filter(sex='female').count()\n",
      "assert num_dispositions == num_male + num_female\n",
      "print(\"Of the records we could consider, there were {} convictions of males and {} convictions of females.\".format(num_male, num_female))\n",
      "times_male = float(num_male / num_female)\n",
      "print(\"That's {} times the number of convictions of males as the number of convictions of females.\".format(times_male))"
     ],
     "language": "python",
     "metadata": {},
     "outputs": [
      {
       "output_type": "stream",
       "stream": "stdout",
       "text": [
        "We have to exclude 301 records because they have an invalid sex value is specified.\n",
        "\n",
        "Of the records we could consider, there were 162244 convictions of males and 23275 convictions of females."
       ]
      },
      {
       "output_type": "stream",
       "stream": "stdout",
       "text": [
        "\n",
        "That's 6.970741138560688 times the number of convictions of males as the number of convictions of females.\n"
       ]
      }
     ],
     "prompt_number": 13
    },
    {
     "cell_type": "markdown",
     "metadata": {},
     "source": [
      "## To what degree does the pool of those convicted vary spatially?  \n",
      "\n",
      "* Community Area - City only\n",
      "* Police District - city only\n",
      "* City vs. Suburban?"
     ]
    },
    {
     "cell_type": "code",
     "collapsed": false,
     "input": [
      "from convictions_data.models import CommunityArea\n",
      "\n",
      "chi_dispositions = Disposition.objects.exclude(community_area=None).values('case_number', 'dob', 'statute', 'community_area__name').distinct()\n",
      "chi_dispositions_by_ca = chi_dispositions.values('community_area__name').annotate(count=Count('pk')).order_by('-count')\n",
      "assert len(chi_dispositions_by_ca) == 77\n",
      "\n",
      "# Calculate the convictions for each community area\n",
      "total = 0\n",
      "dispositions_by_ca = []\n",
      "for ca in CommunityArea.objects.all():\n",
      "    num_ca_dispositions = ca.disposition_set.values('case_number', 'dob', 'statute').distinct().count()\n",
      "    dispositions_by_ca.append({\n",
      "      'name': ca.name,\n",
      "      'count': num_ca_dispositions,\n",
      "    })\n",
      "    total += num_ca_dispositions\n",
      "assert total == chi_dispositions.count()\n",
      "dispositions_by_ca = sorted(dispositions_by_ca, key=lambda x: x['count'])\n",
      "\n",
      "for ca in dispositions_by_ca:\n",
      "    print(\"{}: {}\".format(ca['name'], ca['count']))\n"
     ],
     "language": "python",
     "metadata": {},
     "outputs": [
      {
       "output_type": "stream",
       "stream": "stdout",
       "text": [
        "EDISON PARK: 53\n",
        "OHARE: 77\n",
        "FOREST GLEN: 123\n",
        "ARMOUR SQUARE: 125\n",
        "MOUNT GREENWOOD: 143\n",
        "NORTH PARK: 181\n",
        "HEGEWISCH: 211\n",
        "BURNSIDE: 214\n",
        "ARCHER HEIGHTS: 221\n",
        "MONTCLARE: 229\n",
        "OAKLAND: 280\n",
        "WEST ELSDON: 282\n",
        "NORWOOD PARK: 294\n",
        "FULLER PARK: 315\n",
        "CLEARING: 316\n",
        "MCKINLEY PARK: 323\n",
        "RIVERDALE: 329\n",
        "NORTH CENTER: 339\n",
        "JEFFERSON PARK: 381\n",
        "PULLMAN: 403\n",
        "LINCOLN PARK: 404\n",
        "EAST SIDE: 480\n",
        "AVALON PARK: 481\n",
        "BEVERLY: 482\n",
        "BRIDGEPORT: 513\n",
        "WEST LAWN: 545\n",
        "CALUMET HEIGHTS: 566\n",
        "KENWOOD: 575\n",
        "DUNNING: 578\n",
        "NEAR SOUTH SIDE: 612\n",
        "HYDE PARK: 660\n",
        "LAKE VIEW: 716\n",
        "MORGAN PARK: 748\n",
        "LINCOLN SQUARE: 762\n",
        "ALBANY PARK: 807\n",
        "HERMOSA: 867\n",
        "GARFIELD RIDGE: 885\n",
        "AVONDALE: 912\n",
        "LOOP: 933\n",
        "ASHBURN: 940\n",
        "EDGEWATER: 983\n",
        "GAGE PARK: 1052\n",
        "SOUTH DEERING: 1069\n",
        "PORTAGE PARK: 1127\n",
        "BRIGHTON PARK: 1211\n",
        "WEST RIDGE: 1241\n",
        "DOUGLAS: 1252\n",
        "WASHINGTON PARK: 1279\n",
        "IRVING PARK: 1279\n",
        "LOWER WEST SIDE: 1369\n",
        "WASHINGTON HEIGHTS: 1428\n",
        "NEAR NORTH SIDE: 1867\n",
        "GRAND BOULEVARD: 2024\n",
        "UPTOWN: 2096\n",
        "SOUTH CHICAGO: 2165\n",
        "CHATHAM: 2231\n",
        "ROGERS PARK: 2234\n",
        "WEST PULLMAN: 2260\n",
        "WOODLAWN: 2381\n",
        "LOGAN SQUARE: 2458\n",
        "GREATER GRAND CROSSING: 2461\n",
        "WEST TOWN: 2611\n",
        "BELMONT CRAGIN: 2672\n",
        "NEAR WEST SIDE: 3565\n",
        "SOUTH LAWNDALE: 3576\n",
        "SOUTH SHORE: 3690\n",
        "CHICAGO LAWN: 3737\n",
        "NEW CITY: 3817\n",
        "ROSELAND: 3974\n",
        "EAST GARFIELD PARK: 4027\n",
        "AUBURN GRESHAM: 4124\n",
        "ENGLEWOOD: 4645\n",
        "WEST GARFIELD PARK: 5505\n",
        "WEST ENGLEWOOD: 5601\n",
        "NORTH LAWNDALE: 6076\n",
        "HUMBOLDT PARK: 7279\n",
        "AUSTIN: 15383\n"
       ]
      }
     ],
     "prompt_number": 17
    },
    {
     "cell_type": "markdown",
     "metadata": {},
     "source": [
      "## What crime type results in the most convictions overall?"
     ]
    },
    {
     "cell_type": "markdown",
     "metadata": {},
     "source": [
      "## What crime type results in the most convictions by ~~race~~, gender, age?"
     ]
    },
    {
     "cell_type": "markdown",
     "metadata": {},
     "source": [
      "## How are violent crimes distributed racially & spatially?"
     ]
    },
    {
     "cell_type": "markdown",
     "metadata": {},
     "source": [
      "## How are drug crimes distributed by ~~race~~, age, gender, & spatially?"
     ]
    },
    {
     "cell_type": "code",
     "collapsed": false,
     "input": [
      "posession_records = Disposition.objects.filter(iucr_code=\"2020\")\n",
      "print(posession_records.count())\n",
      "with_counts = posession_records.values('case_number').distinct().annotate(count=Count('pk')).order_by('-count')\n",
      "print(with_counts[0])"
     ],
     "language": "python",
     "metadata": {},
     "outputs": [
      {
       "output_type": "stream",
       "stream": "stdout",
       "text": [
        "67225\n",
        "{'count': 14, 'case_number': '2005CR0590001'}"
       ]
      },
      {
       "output_type": "stream",
       "stream": "stdout",
       "text": [
        "\n"
       ]
      }
     ],
     "prompt_number": 18
    },
    {
     "cell_type": "markdown",
     "metadata": {},
     "source": [
      "## How are crimes described as violence against women (typically thought of as domestic violence & sexual assault) distributed by ~~race~~, age, and spatially?"
     ]
    },
    {
     "cell_type": "code",
     "collapsed": false,
     "input": [],
     "language": "python",
     "metadata": {},
     "outputs": []
    },
    {
     "cell_type": "markdown",
     "metadata": {},
     "source": [
      "## Data weirdness"
     ]
    },
    {
     "cell_type": "code",
     "collapsed": false,
     "input": [
      "# Are there records that have no way to identify individual people within a case\n",
      "num_no_id = Disposition.objects.all().count() - Disposition.objects.exclude(fgrprntno=0, dob=None, st_address=\"\").count()"
     ],
     "language": "python",
     "metadata": {},
     "outputs": [],
     "prompt_number": 19
    },
    {
     "cell_type": "code",
     "collapsed": false,
     "input": [
      "# See if DEF SENTENCED TO COOK CNTY DOC and CREDIT DEFENDANT FOR TIME SERV always come in pairs\n",
      "from django.db.models import Q\n",
      "q = Q(chrgdisp=\"CREDIT DEFENDANT FOR TIME SERV\")\n",
      "\n",
      "for c in Disposition.objects.filter(q).values('case_number').distinct():\n",
      "    failed = False\n",
      "    case_number = c['case_number']\n",
      "    for c2 in Disposition.objects.filter(q).filter(case_number=case_number).values('chrgdispdate'):\n",
      "        chrgdispdate = c2['chrgdispdate']\n",
      "        qs = Disposition.objects.filter(chrgdispdate=chrgdispdate, case_number=case_number)\n",
      "        num_time_served = qs.filter(chrgdisp=\"CREDIT DEFENDANT FOR TIME SERV\").count()\n",
      "        num_sentenced_cook = qs.filter(chrgdisp=\"DEF SENTENCED TO COOK CNTY DOC\").count()\n",
      "        \n",
      "        if (num_time_served != num_sentenced_cook):\n",
      "            num_sentenced_il = qs.filter(chrgdisp=\"DEF SENTENCED ILLINOIS DOC\").count()\n",
      "            if num_time_served != num_sentenced_il:\n",
      "                failed = True\n",
      "            \n",
      "    if failed:\n",
      "        print(\"{} that didn't match our expectation\".format(case_number))"
     ],
     "language": "python",
     "metadata": {},
     "outputs": [
      {
       "output_type": "stream",
       "stream": "stdout",
       "text": [
        "1976C00076602 that didn't match our expectation\n",
        "1979C00857601 that didn't match our expectation"
       ]
      },
      {
       "output_type": "stream",
       "stream": "stdout",
       "text": [
        "\n",
        "1980I60523202 that didn't match our expectation"
       ]
      },
      {
       "output_type": "stream",
       "stream": "stdout",
       "text": [
        "\n",
        "1981C00176101 that didn't match our expectation"
       ]
      },
      {
       "output_type": "stream",
       "stream": "stdout",
       "text": [
        "\n",
        "1984C00710401 that didn't match our expectation"
       ]
      },
      {
       "output_type": "stream",
       "stream": "stdout",
       "text": [
        "\n",
        "1984C01073201 that didn't match our expectation"
       ]
      }
     ]
    },
    {
     "cell_type": "code",
     "collapsed": false,
     "input": [],
     "language": "python",
     "metadata": {},
     "outputs": []
    }
   ],
   "metadata": {}
  }
 ]
}